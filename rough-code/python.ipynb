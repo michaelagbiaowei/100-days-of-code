{
 "cells": [
  {
   "cell_type": "code",
   "execution_count": null,
   "metadata": {},
   "outputs": [],
   "source": [
    "print(\"Welcome to the tip calculator\")\n",
    "input_total_bill = input(\"What was the total bill?\\n\")\n",
    "bill = float(input_total_bill)\n",
    "input_percentage_tip = input(\"What percentage tip would you like to give? 10, 12 or 15?\\n\")\n",
    "percentage_tip = int(input_percentage_tip)\n",
    "input_split_bill = input(\"How many people are to split the bill?\\n\")\n",
    "spilt_bill = int(input_split_bill)\n",
    "\n",
    "cal_1 = ((percentage_tip / 100) * bill)\n",
    "cal_2 = (cal_1 + bill)\n",
    "cal_3 = (round(cal_2 / spilt_bill, 2))\n",
    "\n",
    "print(f\"Each person should pay: {cal_3}\")"
   ]
  }
 ],
 "metadata": {
  "kernelspec": {
   "display_name": "Python 3.10.5 64-bit",
   "language": "python",
   "name": "python3"
  },
  "language_info": {
   "codemirror_mode": {
    "name": "ipython",
    "version": 3
   },
   "file_extension": ".py",
   "mimetype": "text/x-python",
   "name": "python",
   "nbconvert_exporter": "python",
   "pygments_lexer": "ipython3",
   "version": "3.10.5"
  },
  "orig_nbformat": 4,
  "vscode": {
   "interpreter": {
    "hash": "369f2c481f4da34e4445cda3fffd2e751bd1c4d706f27375911949ba6bb62e1c"
   }
  }
 },
 "nbformat": 4,
 "nbformat_minor": 2
}
